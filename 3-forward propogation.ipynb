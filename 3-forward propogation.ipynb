{
 "cells": [
  {
   "cell_type": "code",
   "execution_count": 1,
   "metadata": {},
   "outputs": [
    {
     "name": "stdout",
     "output_type": "stream",
     "text": [
      "0.850000\n"
     ]
    }
   ],
   "source": [
    "\"\"\"\n",
    "(*) A simple neural network making a prediction (one input, one output)\n",
    "\"\"\"\n",
    "\n",
    "# A neural network with a single weight mapping from input to output. \n",
    "# -- It accepts an input variable as information and a weight variable as knowledge and outputs a prediction.\n",
    "# -- Another way to think about a neural network’s weight value is as a measure of sensitivity between the input of the network\n",
    "#    and its prediction. If the weight is very high, then even the tiniest input can create a really large prediction! If the weight\n",
    "#    is very small, then even large inputs will make small predictions. \n",
    "weight = 0.1\n",
    "\n",
    "def neural_network(input, weight):\n",
    "    prediction = input * weight\n",
    "    return prediction\n",
    "\n",
    "# Input data\n",
    "number_of_toes = [8.5, 9.5, 10, 9]\n",
    "input = number_of_toes[0]\n",
    "\n",
    "# Use the neural network to make the prediction\n",
    "pred = neural_network(input, weight)\n",
    "print('%f' % pred)"
   ]
  },
  {
   "cell_type": "code",
   "execution_count": 1,
   "metadata": {},
   "outputs": [
    {
     "name": "stdout",
     "output_type": "stream",
     "text": [
      "0.980000\n"
     ]
    }
   ],
   "source": [
    "\"\"\"\n",
    "(*) Neural network can combine intelligence from multiple datapoints (multiple inputs, one output)\n",
    "\"\"\"\n",
    "\n",
    "# Performing a weighted sum of inputs\n",
    "def w_sum(a, b):\n",
    "    assert(len(a) == len(b))\n",
    "    output = 0.0\n",
    "    for i in range(len(a)):\n",
    "        output += (a[i] * b[i])\n",
    "    return output\n",
    "\n",
    "# This new neural network can accept multiple inputs at a time per prediction. This allows the network to combine various forms\n",
    "# of information to make better-informed decisions. But the fundamental mechanism for using weights hasn’t changed. In other words,\n",
    "# you multiply each input by its respective weight and then sum all the local predictions together. This is called a weighted sum\n",
    "# of the input, or a weighted sum for short or dot product.\n",
    "weights = [0.1, 0.2, 0]\n",
    "\n",
    "def neural_network(input, weights):\n",
    "    pred = w_sum(input, weights)\n",
    "    return pred\n",
    "\n",
    "# Input data (three at a time)\n",
    "toes =  [8.5,  9.5, 9.9, 9.0]\n",
    "wlrec = [0.65, 0.8, 0.8, 0.9]\n",
    "nfans = [1.2,  1.3, 0.5, 1.0]\n",
    "input = [toes[0], wlrec[0], nfans[0]]\n",
    "\n",
    "# Use the neural network to make the prediction: input is a vector and weights is a vector. \n",
    "pred = neural_network(input, weights)\n",
    "print('%f' % pred)"
   ]
  },
  {
   "cell_type": "code",
   "execution_count": null,
   "metadata": {},
   "outputs": [],
   "source": [
    "\"\"\"\n",
    "Important Note:\n",
    "\n",
    "The intuition behind how and why a dot product (weighted sum) works is easily one of the most important parts of truly understanding\n",
    "how neural networks make predictions. Loosely stated, a dot product gives you a notion of similarity between two vectors.\n",
    "\n",
    "What does this mean when a neural network makes a prediction?  Roughly speaking, it means the network gives a high score of the inputs\n",
    "based on how similar they are to the weights. Both the value of the weight and the value of the input determine the overall impact on the\n",
    "final score. Finally, a negative weight will cause some inputs to reduce the final prediction (and vice versa).\n",
    "\"\"\""
   ]
  },
  {
   "cell_type": "code",
   "execution_count": 7,
   "metadata": {},
   "outputs": [
    {
     "name": "stdout",
     "output_type": "stream",
     "text": [
      "0.980000\n"
     ]
    }
   ],
   "source": [
    "\"\"\"\n",
    "Numpy version of the above neural network\n",
    "\"\"\"\n",
    "import numpy as np\n",
    "\n",
    "weights = np.array([0.1, 0.2, 0])\n",
    "\n",
    "def neural_network(input, weights):\n",
    "    pred = input.dot(weights)\n",
    "    return pred\n",
    "\n",
    "toes = np.array([8.5, 9.5, 9.9, 9.0])\n",
    "wlrec = np.array([0.65, 0.8, 0.8, 0.9])\n",
    "nfans = np.array([1.2, 1.3, 0.5, 1.0])\n",
    "input = np.array([toes[0],wlrec[0],nfans[0]])\n",
    "\n",
    "pred = neural_network(input, weights)\n",
    "print('%f' % pred)"
   ]
  },
  {
   "cell_type": "code",
   "execution_count": 9,
   "metadata": {},
   "outputs": [
    {
     "name": "stdout",
     "output_type": "stream",
     "text": [
      "[0.195, 0.13, 0.5850000000000001]\n"
     ]
    }
   ],
   "source": [
    "\"\"\"\n",
    "(*) Neural networks can make multiple predictions using only a single input (one input, multiple outputs)\n",
    "\"\"\"\n",
    "\n",
    "# Performing elementwise multiplication\n",
    "def ele_mul(number, vector):\n",
    "    output = [0, 0, 0]\n",
    "    assert(len(output) == len(vector))\n",
    "    for i in range(len(vector)):\n",
    "        output[i] = number * vector[i]\n",
    "    return output\n",
    "\n",
    "# The most important comment in this setting is to notice that the three predictions are completely separate.\n",
    "# This network truly behaves as three independent components, each receiving the same input data.\n",
    "weights = [0.3, 0.2, 0.9]\n",
    "\n",
    "def neural_network(input, weights):\n",
    "    pred = ele_mul(input, weights)\n",
    "    return pred\n",
    "\n",
    "# Input data\n",
    "wlrec = [0.65, 0.8, 0.8, 0.9]\n",
    "input = wlrec[0]\n",
    "\n",
    "# Use the neural network to make the prediction\n",
    "pred = neural_network(input, weights)\n",
    "print(pred)"
   ]
  },
  {
   "cell_type": "code",
   "execution_count": 10,
   "metadata": {},
   "outputs": [
    {
     "name": "stdout",
     "output_type": "stream",
     "text": [
      "[0.555, 0.9800000000000001, 0.9650000000000001]\n"
     ]
    }
   ],
   "source": [
    "\"\"\"\n",
    "(*) Neural networks can make multiple predictions given multiple inputs (multiple inputs, multiple outputs)\n",
    "\"\"\"\n",
    "\n",
    "# For each output, performing a weighted sum of inputs\n",
    "def w_sum(a, b):\n",
    "    assert(len(a) == len(b))\n",
    "    output = 0\n",
    "    for i in range(len(a)):\n",
    "        output += (a[i] * b[i])\n",
    "    return output\n",
    "\n",
    "def vect_mat_mul(vect, matrix):\n",
    "    assert(len(vect) == len(matrix))\n",
    "    output = [0, 0, 0]\n",
    "    for i in range(len(vect)):\n",
    "        output[i] = w_sum(vect, matrix[i])\n",
    "    return output\n",
    "\n",
    "# You can take two perspectives on this architecture: think of it as either three weights coming out of each input node, or\n",
    "# three weights going into each output node. For now, I find the latter to be much more beneficial. Think about this neural network\n",
    "# as three independent dot products: three independent weighted sums of the input. Each output node takes its own weighted sum of\n",
    "# the input and makes a prediction. \n",
    "weights = [[0.1, 0.1, -0.3],\n",
    "           [0.1, 0.2, 0.0],\n",
    "           [0.0, 1.3, 0.1]]\n",
    "\n",
    "def neural_network(input, weights):\n",
    "    pred = vect_mat_mul(input, weights)\n",
    "    return pred\n",
    "\n",
    "# Input data\n",
    "toes =  [8.5,  9.5, 9.9, 9.0]\n",
    "wlrec = [0.65, 0.8, 0.8, 0.9]\n",
    "nfans = [1.2,  1.3, 0.5, 1.0]\n",
    "input = [toes[0], wlrec[0], nfans[0]]\n",
    "\n",
    "# Use the neural network to make the prediction\n",
    "pred = neural_network(input, weights)\n",
    "print(pred)"
   ]
  },
  {
   "cell_type": "code",
   "execution_count": 13,
   "metadata": {},
   "outputs": [
    {
     "name": "stdout",
     "output_type": "stream",
     "text": [
      "[0.21350000000000002, 0.14500000000000002, 0.5065]\n"
     ]
    }
   ],
   "source": [
    "\"\"\"\n",
    "(*) Neural networks can be stacked (predicting on predictions)\n",
    "\"\"\"\n",
    "\n",
    "# You can take the output of one network and feed it as input to another network. This results in two consecutive vector-matrix\n",
    "# multiplications. It may not yet be clear why you’d predict this way; but some datasets (such as image classification) contain patterns\n",
    "# that are too complex for a single-weight matrix.\n",
    "\n",
    "ih_wgt = [[0.1,  0.2, -0.1],\n",
    "          [-0.1, 0.1,  0.9],\n",
    "          [0.1,  0.4,  0.1]]\n",
    "hp_wgt = [[0.3, 1.1, -0.3],\n",
    "          [0.1, 0.2,  0.0],\n",
    "          [0.0, 1.3,  0.1]]\n",
    "weights = [ih_wgt, hp_wgt]\n",
    "\n",
    "def neural_network(input, weights):\n",
    "    hid  = vect_mat_mul(input, weights[0])\n",
    "    pred = vect_mat_mul(hid, weights[1])\n",
    "    return pred\n",
    "\n",
    "# Input data\n",
    "toes =  [8.5,  9.5, 9.9, 9.0]\n",
    "wlrec = [0.65, 0.8, 0.8, 0.9]\n",
    "nfans = [1.2,  1.3, 0.5, 1.0]\n",
    "input = [toes[0], wlrec[0], nfans[0]]\n",
    "\n",
    "# predicting on prediction\n",
    "pred = neural_network(input, weights)\n",
    "print(pred)"
   ]
  },
  {
   "cell_type": "code",
   "execution_count": 14,
   "metadata": {},
   "outputs": [
    {
     "name": "stdout",
     "output_type": "stream",
     "text": [
      "[0.2135 0.145  0.5065]\n"
     ]
    }
   ],
   "source": [
    "\"\"\"\n",
    "Numpy version of the above neural network\n",
    "\"\"\"\n",
    "\n",
    "ih_wgt = np.array([[0.1, 0.2, -0.1],\n",
    "                   [-0.1,0.1, 0.9],\n",
    "                   [0.1, 0.4, 0.1]]).T\n",
    "\n",
    "hp_wgt = np.array([[0.3, 1.1, -0.3],\n",
    "                   [0.1, 0.2, 0.0],\n",
    "                   [0.0, 1.3, 0.1] ]).T\n",
    "weights = [ih_wgt, hp_wgt]\n",
    "\n",
    "def neural_network(input, weights):\n",
    "    hid = input.dot(weights[0])\n",
    "    pred = hid.dot(weights[1])\n",
    "    return pred\n",
    "\n",
    "toes  = np.array([8.5,  9.5, 9.9, 9.0])\n",
    "wlrec = np.array([0.65, 0.8, 0.8, 0.9])\n",
    "nfans = np.array([1.2,  1.3, 0.5, 1.0])\n",
    "input = np.array([toes[0],wlrec[0],nfans[0]])\n",
    "\n",
    "pred = neural_network(input,weights)\n",
    "print(pred)"
   ]
  },
  {
   "cell_type": "code",
   "execution_count": 8,
   "metadata": {},
   "outputs": [
    {
     "name": "stdout",
     "output_type": "stream",
     "text": [
      "[0 1 2 3]\n",
      "[4 5 6 7]\n",
      "[[0 1 2 3]\n",
      " [4 5 6 7]]\n",
      "[[0. 0. 0. 0.]\n",
      " [0. 0. 0. 0.]]\n",
      "[[0.95964005 0.95926755 0.70524519 0.61081255 0.37159998]\n",
      " [0.481581   0.86943584 0.10484111 0.4664899  0.85330077]]\n",
      "[0.  0.1 0.2 0.3]\n",
      "[[0.  0.2 0.4 0.6]\n",
      " [0.8 1.  1.2 1.4]]\n",
      "[ 0  5 12 21]\n",
      "[0.  1.  2.4 4.2]\n",
      "[[ 0  1  4  9]\n",
      " [ 0  5 12 21]]\n",
      "(1, 3)\n"
     ]
    }
   ],
   "source": [
    "\"\"\"\n",
    "A Quick Primer on NumPy\n",
    "\n",
    "When you multiply two variables with the * function, NumPy automatically detects what kinds of variables you’re working with and tries\n",
    "to figure out the operation you’re talking about. This can be mega-convenient but sometimes makes NumPy code a bit hard to read.\n",
    "Make sure you keep track of each variable type as you go along.\n",
    "\n",
    "The general rule of thumb for anything elementwise (+, –, *, /) is that either the two variables must have the same number of columns,\n",
    "or one of the variables must have only one column.\n",
    "\n",
    "When you “read NumPy,” you’re really doing two things: reading the operations and keeping track of the shape (number of rows and columns)\n",
    "of each operation. \n",
    "\"\"\"\n",
    "import numpy as np\n",
    "\n",
    "\n",
    "# Create vectors and matrices\n",
    "a = np.array([0, 1, 2, 3])\n",
    "b = np.array([4, 5, 6, 7])\n",
    "c = np.array([[0, 1, 2, 3], [4, 5, 6, 7]])\n",
    "d = np.zeros((2, 4))\n",
    "e = np.random.rand(2, 5)\n",
    "\n",
    "print(a)\n",
    "print(b)\n",
    "print(c)\n",
    "print(d)\n",
    "print(e)\n",
    "\n",
    "# Operations\n",
    "print(a * 0.1)       # Scalar-vector multiplication\n",
    "print(c * 0.2)       # Scalar-matrix multiplication\n",
    "print(a * b)         # Multiplies elementwise between a and b \n",
    "print(a * b * 0.2)  \n",
    "print(a * c)         # Performs elementwise multiplication on every row of matrix c, because c has the same number of columns as a\n",
    "#print(a * e)        # Because a and e don’t have the same number of columns, this throws error\n",
    "\n",
    "# Dot Product\n",
    "a = np.zeros((1,4))\n",
    "b = np.zeros((4,3))\n",
    "c = a.dot(b)\n",
    "\n",
    "print(c.shape)"
   ]
  }
 ],
 "metadata": {
  "kernelspec": {
   "display_name": "Python 3",
   "language": "python",
   "name": "python3"
  },
  "language_info": {
   "codemirror_mode": {
    "name": "ipython",
    "version": 3
   },
   "file_extension": ".py",
   "mimetype": "text/x-python",
   "name": "python",
   "nbconvert_exporter": "python",
   "pygments_lexer": "ipython3",
   "version": "3.6.4"
  }
 },
 "nbformat": 4,
 "nbformat_minor": 2
}
