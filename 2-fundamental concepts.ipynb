{
 "cells": [
  {
   "cell_type": "code",
   "execution_count": null,
   "metadata": {},
   "outputs": [],
   "source": [
    "\"\"\"\n",
    "* What is deep learning? what is machine learning?\n",
    "\n",
    "1. In industry, deep learning is used to solve practical tasks in a variety of fields such as computer vision (image), natural language\n",
    "   processing (text), and automatic speech recognition (audio). In short, deep learning is a subset of methods in the machine learning\n",
    "   toolbox, primarily using artificial neural networks, which are a class of algorithm loosely inspired by the human brain.\n",
    "\n",
    "2. Machine learning is a subfield of computer science wherein machines learn to perform tasks for which they were not explicitly programmed.\n",
    "   In short, machines observe a pattern and attempt to imitate it in some way that can be either direct or indirect. I mention direct and\n",
    "   indirect imitation as a parallel to the two main types of machine learning: supervised and unsupervised.\n",
    "\"\"\""
   ]
  },
  {
   "cell_type": "code",
   "execution_count": null,
   "metadata": {},
   "outputs": [],
   "source": [
    "\"\"\"\n",
    "* Supervised machine learning\n",
    "\n",
    "1. Supervised machine learning is the direct imitation of a pattern between two datasets. It’s always attempting to take an input dataset\n",
    "   and transform it into an output dataset.\n",
    "\n",
    "2. Supervised machine learning is the bread and butter of applied artificial intelligence (also known as narrow AI). It’s useful for\n",
    "   taking what you know as input and quickly transforming it into what you want to know. This allows supervised machine learning algorithms\n",
    "   to extend human intelligence and capabilities in a seemingly endless number of ways.\n",
    "\n",
    "3. The majority of work using machine learning results in the training of a supervised classifier of some kind. Even unsupervised machine\n",
    "   learning is typically done to aid in the development of an accurate supervised machine learning algorithm. \n",
    "\"\"\""
   ]
  },
  {
   "cell_type": "code",
   "execution_count": null,
   "metadata": {},
   "outputs": [],
   "source": [
    "\"\"\"\n",
    "* Unsupervised machine learning\n",
    "\n",
    "1. Unsupervised learning shares a property in common with supervised learning: it transforms one dataset into another. But the dataset that\n",
    "   it transforms into is not previously known or understood. Unlike supervised learning, there is no “right answer” that you’re trying\n",
    "   to get the model to duplicate. You just tell an unsupervised algorithm to “find patterns in this data and tell me about them.”\n",
    "\n",
    "2. This idea of clustering is something you can reliably hold onto in your mind as the definition of unsupervised learning. Even though\n",
    "   there are many forms of unsupervised learning, all forms of unsupervised learning can be viewed as a form of clustering. \n",
    "\"\"\""
   ]
  },
  {
   "cell_type": "code",
   "execution_count": null,
   "metadata": {},
   "outputs": [],
   "source": [
    "\"\"\"\n",
    "Parametric vs. nonparametric learning\n",
    "\n",
    "1. A parametric model is characterized by having a fixed number of parameters, whereas a nonparametric model’s number of parameters is\n",
    "   infinite (determined by data). Parametric models tend to use trial and error, whereas nonparametric models tend to count.\n",
    "   \n",
    "2. You can also think of the type of parametic learning model as a search algorithm. You’re “searching” for the appropriate knob\n",
    "   configuration by trying configurations, adjusting them, and retrying until find the optimal one.\n",
    "\n",
    "3. Nonparametric learning is a class of algorithm wherein the number of parameters is based on data (instead of predefined). This lends\n",
    "   itself to methods that generally count in one way or another, thus increasing the number of parameters based on the number of items\n",
    "   being counted within the data.\n",
    "\"\"\""
   ]
  }
 ],
 "metadata": {
  "kernelspec": {
   "display_name": "Python 3",
   "language": "python",
   "name": "python3"
  },
  "language_info": {
   "codemirror_mode": {
    "name": "ipython",
    "version": 3
   },
   "file_extension": ".py",
   "mimetype": "text/x-python",
   "name": "python",
   "nbconvert_exporter": "python",
   "pygments_lexer": "ipython3",
   "version": "3.6.4"
  }
 },
 "nbformat": 4,
 "nbformat_minor": 2
}
